{
 "cells": [
  {
   "cell_type": "code",
   "execution_count": 1,
   "id": "673d217c-c8b5-45a9-b48d-52723a185bf1",
   "metadata": {},
   "outputs": [],
   "source": [
    "jari_jari = 10"
   ]
  },
  {
   "cell_type": "code",
   "execution_count": 2,
   "id": "f0e48da5-86f7-4c5c-ad11-0306050d2cc2",
   "metadata": {},
   "outputs": [],
   "source": [
    "PI = 3.14"
   ]
  },
  {
   "cell_type": "code",
   "execution_count": 10,
   "id": "acad29f2-39f5-47f2-8597-d0273de2d08b",
   "metadata": {},
   "outputs": [],
   "source": [
    "luas_lingkaran = PI*jari_jari*jari_jari"
   ]
  },
  {
   "cell_type": "code",
   "execution_count": 12,
   "id": "5444777f-76be-43f9-83e0-d697e58664c5",
   "metadata": {},
   "outputs": [
    {
     "data": {
      "text/plain": [
       "314.0"
      ]
     },
     "execution_count": 12,
     "metadata": {},
     "output_type": "execute_result"
    }
   ],
   "source": [
    "luas_lingkaran"
   ]
  },
  {
   "cell_type": "code",
   "execution_count": 13,
   "id": "c6a4062e-15d8-47ff-9b31-c5fc254ca90e",
   "metadata": {},
   "outputs": [],
   "source": [
    "alas = 4\n",
    "tinggi = 6"
   ]
  },
  {
   "cell_type": "code",
   "execution_count": 15,
   "id": "bd24a3c6-c9af-4034-b4ef-e975056ad701",
   "metadata": {},
   "outputs": [],
   "source": [
    "def menghitung_luas_lingkaran(jari_jari):\n",
    "    return 3.14*jari_jari*jari_jari"
   ]
  },
  {
   "cell_type": "code",
   "execution_count": 16,
   "id": "aaa44bfd-f4e9-4eeb-af4d-b32b05d2368b",
   "metadata": {},
   "outputs": [
    {
     "data": {
      "text/plain": [
       "314.0"
      ]
     },
     "execution_count": 16,
     "metadata": {},
     "output_type": "execute_result"
    }
   ],
   "source": [
    "menghitung_luas_lingkaran(3.14, 10)"
   ]
  },
  {
   "cell_type": "code",
   "execution_count": null,
   "id": "52c06215-3222-422b-aab8-81e6f80aa8cb",
   "metadata": {},
   "outputs": [],
   "source": [
    "lingkaran_satu = menghitung_luas_lingkaran"
   ]
  }
 ],
 "metadata": {
  "kernelspec": {
   "display_name": "Python 3 (ipykernel)",
   "language": "python",
   "name": "python3"
  },
  "language_info": {
   "codemirror_mode": {
    "name": "ipython",
    "version": 3
   },
   "file_extension": ".py",
   "mimetype": "text/x-python",
   "name": "python",
   "nbconvert_exporter": "python",
   "pygments_lexer": "ipython3",
   "version": "3.9.12"
  }
 },
 "nbformat": 4,
 "nbformat_minor": 5
}
